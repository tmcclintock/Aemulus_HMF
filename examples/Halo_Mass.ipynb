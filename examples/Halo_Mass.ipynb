{
 "cells": [
  {
   "cell_type": "markdown",
   "metadata": {},
   "source": [
    "# Halo Mass Calculations"
   ]
  },
  {
   "cell_type": "code",
   "execution_count": 38,
   "metadata": {
    "collapsed": true
   },
   "outputs": [],
   "source": [
    "# imports\n",
    "import numpy as np\n",
    "from matplotlib import pyplot as plt\n",
    "\n",
    "from scipy.interpolate import InterpolatedUnivariateSpline as IUS\n",
    "\n",
    "import aemHMF\n",
    "\n",
    "from astropy.cosmology import Planck15 as cosmo\n",
    "from astropy import units\n",
    "from astropy import constants"
   ]
  },
  {
   "cell_type": "markdown",
   "metadata": {},
   "source": [
    "## Cosmology"
   ]
  },
  {
   "cell_type": "code",
   "execution_count": 17,
   "metadata": {},
   "outputs": [],
   "source": [
    "# https://github.com/astropy/astropy/blob/master/astropy/cosmology/parameters.py\n",
    "sigma8=0.8159\n",
    "ns=0.9667\n",
    "Neff=3.046"
   ]
  },
  {
   "cell_type": "code",
   "execution_count": 20,
   "metadata": {},
   "outputs": [],
   "source": [
    "cosmo_dict = {\"om\":cosmo.Om0,\"ob\":cosmo.Ob0,\"ol\":1.-cosmo.Om0,\"ok\":0.0,\n",
    "              \"h\":cosmo.h,\"s8\":sigma8,\"ns\":ns,\"w0\":-1.0,\"Neff\":Neff} # \"wa\":0.0 is assumed internally"
   ]
  },
  {
   "cell_type": "markdown",
   "metadata": {},
   "source": [
    "## Instantiate"
   ]
  },
  {
   "cell_type": "code",
   "execution_count": 21,
   "metadata": {
    "collapsed": true
   },
   "outputs": [],
   "source": [
    "hmf = aemHMF.Aemulus_HMF()\n",
    "hmf.set_cosmology(cosmo_dict)"
   ]
  },
  {
   "cell_type": "markdown",
   "metadata": {},
   "source": [
    "## Integrate Mass"
   ]
  },
  {
   "cell_type": "markdown",
   "metadata": {},
   "source": [
    "### $d n / dlogM$"
   ]
  },
  {
   "cell_type": "code",
   "execution_count": 54,
   "metadata": {
    "collapsed": true
   },
   "outputs": [],
   "source": [
    "Mlow = 1e10\n",
    "Mhigh = 1e17"
   ]
  },
  {
   "cell_type": "code",
   "execution_count": 55,
   "metadata": {
    "collapsed": true
   },
   "outputs": [],
   "source": [
    "a = 1.0 #Scale factor\n",
    "\n",
    "M = np.logspace(np.log10(Mlow), np.log10(Mhigh), num=1000)\n",
    "lM = np.log(M)\n",
    "dndlM = np.array([hmf.dndlM(Mi, a) for Mi in M])"
   ]
  },
  {
   "cell_type": "code",
   "execution_count": 56,
   "metadata": {
    "collapsed": true
   },
   "outputs": [],
   "source": [
    "logM = np.log10(M)\n",
    "dlogM = logM - np.roll(logM,1)\n",
    "dlogM[0] = dlogM[1]"
   ]
  },
  {
   "cell_type": "code",
   "execution_count": 57,
   "metadata": {},
   "outputs": [
    {
     "data": {
      "image/png": "[encoded data removed]",
      "text/plain": [
       "<matplotlib.figure.Figure at 0x7f39230b2cf8>"
      ]
     },
     "metadata": {},
     "output_type": "display_data"
    }
   ],
   "source": [
    "plt.clf()\n",
    "ax = plt.gca()\n",
    "ax.plot(M, dndlM)\n",
    "#\n",
    "ax.set_yscale(\"log\", nonposy='clip')\n",
    "ax.set_xscale(\"log\", nonposx='clip')\n",
    "plt.show()"
   ]
  },
  {
   "cell_type": "markdown",
   "metadata": {},
   "source": [
    "### Spline"
   ]
  },
  {
   "cell_type": "code",
   "execution_count": 58,
   "metadata": {
    "collapsed": true
   },
   "outputs": [],
   "source": [
    "spl = IUS(lM, M*dndlM)"
   ]
  },
  {
   "cell_type": "markdown",
   "metadata": {},
   "source": [
    "### Integrate"
   ]
  },
  {
   "cell_type": "code",
   "execution_count": 59,
   "metadata": {},
   "outputs": [
    {
     "data": {
      "text/latex": [
       "$4.406835 \\times 10^{10} \\; \\mathrm{\\frac{M_{\\odot}}{Mpc^{3}}}$"
      ],
      "text/plain": [
       "<Quantity 4.40683504e+10 solMass / Mpc3>"
      ]
     },
     "execution_count": 59,
     "metadata": {},
     "output_type": "execute_result"
    }
   ],
   "source": [
    "rho_tot =  spl.integral(np.log(Mlow), np.log(Mhigh)) *constants.M_sun/units.Mpc**3\n",
    "rho_tot.to('Msun/Mpc**3') # h**-3 ??"
   ]
  },
  {
   "cell_type": "markdown",
   "metadata": {},
   "source": [
    "### Compare"
   ]
  },
  {
   "cell_type": "code",
   "execution_count": 60,
   "metadata": {},
   "outputs": [
    {
     "data": {
      "text/latex": [
       "$3.2971806 \\times 10^{10} \\; \\mathrm{\\frac{M_{\\odot}}{Mpc^{3}}}$"
      ],
      "text/plain": [
       "<Quantity 3.29718064e+10 solMass / Mpc3>"
      ]
     },
     "execution_count": 60,
     "metadata": {},
     "output_type": "execute_result"
    }
   ],
   "source": [
    "rho_DM = cosmo.critical_density0 * cosmo.Odm0\n",
    "rho_DM.to('Msun/Mpc**3')"
   ]
  },
  {
   "cell_type": "code",
   "execution_count": 61,
   "metadata": {},
   "outputs": [
    {
     "data": {
      "text/latex": [
       "$0.41545083 \\; \\mathrm{}$"
      ],
      "text/plain": [
       "<Quantity 0.41545083>"
      ]
     },
     "execution_count": 61,
     "metadata": {},
     "output_type": "execute_result"
    }
   ],
   "source": [
    "(rho_tot*cosmo.h**3 / rho_DM).decompose()"
   ]
  },
  {
   "cell_type": "code",
   "execution_count": null,
   "metadata": {
    "collapsed": true
   },
   "outputs": [],
   "source": []
  }
 ],
 "metadata": {
  "kernelspec": {
   "display_name": "Python 3",
   "language": "python",
   "name": "python3"
  },
  "language_info": {
   "codemirror_mode": {
    "name": "ipython",
    "version": 3
   },
   "file_extension": ".py",
   "mimetype": "text/x-python",
   "name": "python",
   "nbconvert_exporter": "python",
   "pygments_lexer": "ipython3",
   "version": "3.6.3"
  }
 },
 "nbformat": 4,
 "nbformat_minor": 2
}
